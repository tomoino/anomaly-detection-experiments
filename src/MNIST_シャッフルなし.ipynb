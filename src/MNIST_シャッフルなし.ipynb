{
 "cells": [
  {
   "cell_type": "markdown",
   "id": "8d86651a-eed4-4a1c-a666-859b04e72b8f",
   "metadata": {},
   "source": [
    "# 学習"
   ]
  },
  {
   "cell_type": "code",
   "execution_count": 1,
   "id": "3f07dbb1-85f7-4177-85f6-156d2c254f4f",
   "metadata": {},
   "outputs": [],
   "source": [
    "import torch\n",
    "import torch.nn as nn\n",
    "import torch.optim as optim\n",
    "import torchvision.transforms as transforms\n",
    "from torch.utils.data import DataLoader\n",
    "from torchvision.datasets import MNIST\n",
    "\n",
    "# デバイスの設定\n",
    "device = torch.device(\"cuda\" if torch.cuda.is_available() else \"cpu\")\n",
    "\n",
    "# データの前処理\n",
    "transform = transforms.Compose([\n",
    "    transforms.Resize((14, 14)),\n",
    "    transforms.ToTensor(),\n",
    "])\n",
    "\n",
    "# MNISTデータセットの読み込み\n",
    "original_train_dataset = MNIST(root=\"./data\", train=True, transform=transform, download=True)\n",
    "original_test_dataset = MNIST(root=\"./data\", train=False, transform=transform, download=True)\n"
   ]
  },
  {
   "cell_type": "code",
   "execution_count": 2,
   "id": "f3e664bc-935f-443a-9f1c-5798305c4d34",
   "metadata": {},
   "outputs": [],
   "source": [
    "# クラス1のデータのみ抽出\n",
    "train_dataset = [data for data in original_train_dataset if data[1] == 1]\n",
    "test_dataset = [data for data in original_test_dataset if data[1] == 1]"
   ]
  },
  {
   "cell_type": "code",
   "execution_count": 3,
   "id": "162d12ec-b2ff-423b-87da-8129f755134b",
   "metadata": {},
   "outputs": [
    {
     "data": {
      "image/png": "[encoded data removed]",
      "text/plain": [
       "<Figure size 640x480 with 1 Axes>"
      ]
     },
     "metadata": {},
     "output_type": "display_data"
    }
   ],
   "source": [
    "import matplotlib.pyplot as plt\n",
    "image = train_dataset[0][0].squeeze(0)\n",
    "plt.imshow(image, cmap='gray')\n",
    "plt.axis('off')\n",
    "plt.show()"
   ]
  },
  {
   "cell_type": "code",
   "execution_count": 4,
   "id": "1b947439-d4b7-4229-9361-46d42b031651",
   "metadata": {},
   "outputs": [
    {
     "data": {
      "text/plain": [
       "6742"
      ]
     },
     "execution_count": 4,
     "metadata": {},
     "output_type": "execute_result"
    }
   ],
   "source": [
    "len(train_dataset)"
   ]
  },
  {
   "cell_type": "code",
   "execution_count": 5,
   "id": "a57c6e7b-de7f-4135-bbb8-c33ac4f17934",
   "metadata": {},
   "outputs": [
    {
     "data": {
      "text/plain": [
       "1135"
      ]
     },
     "execution_count": 5,
     "metadata": {},
     "output_type": "execute_result"
    }
   ],
   "source": [
    "len(test_dataset)"
   ]
  },
  {
   "cell_type": "code",
   "execution_count": 49,
   "id": "ba9fd44b-2ac0-415e-b1a9-8c7d37d28a02",
   "metadata": {},
   "outputs": [
    {
     "name": "stdout",
     "output_type": "stream",
     "text": [
      "Epoch 1/10, Training Loss: 0.0968\n",
      "Epoch 2/10, Training Loss: 0.0184\n",
      "Epoch 3/10, Training Loss: 0.0033\n",
      "Epoch 4/10, Training Loss: 0.0017\n",
      "Epoch 5/10, Training Loss: 0.0012\n",
      "Epoch 6/10, Training Loss: 0.0009\n",
      "Epoch 7/10, Training Loss: 0.0008\n",
      "Epoch 8/10, Training Loss: 0.0007\n",
      "Epoch 9/10, Training Loss: 0.0006\n",
      "Epoch 10/10, Training Loss: 0.0005\n",
      "Test Loss: 0.0004\n"
     ]
    }
   ],
   "source": [
    "\n",
    "# DataLoaderの作成\n",
    "batch_size = 64\n",
    "train_loader = DataLoader(train_dataset, batch_size=batch_size, shuffle=True)\n",
    "test_loader = DataLoader(test_dataset, batch_size=batch_size, shuffle=False)\n",
    "\n",
    "# Autoencoderモデルの定義\n",
    "class Autoencoder(nn.Module):\n",
    "    def __init__(self):\n",
    "        super(Autoencoder, self).__init__()\n",
    "        \n",
    "        # エンコーダ部分\n",
    "        self.encoder = nn.Sequential(\n",
    "            nn.Conv2d(1, 16, kernel_size=3, stride=2, padding=1), # torch.Size([*, 16, 7, 7])\n",
    "            nn.ReLU(),\n",
    "            nn.Conv2d(16, 32, kernel_size=3, stride=2, padding=1), # torch.Size([*, 32, 4, 4])\n",
    "            nn.ReLU(),\n",
    "            # nn.Flatten(), # torch.Size([*, 512])\n",
    "            # nn.Linear(512, 100), # torch.Size([*, 100])\n",
    "            # nn.ReLU(),\n",
    "        )\n",
    "        \n",
    "        # デコーダ部分\n",
    "        self.decoder = nn.Sequential(\n",
    "            # nn.Linear(100, 512),\n",
    "            # nn.ReLU(),\n",
    "            # nn.Unflatten(1, (32, 4, 4)), # torch.Size([*, 32, 4, 4])\n",
    "            nn.ConvTranspose2d(32, 16, kernel_size=3, stride=2, padding=1, output_padding=0), # torch.Size([*, 16, 7, 7])\n",
    "            nn.ReLU(),\n",
    "            nn.ConvTranspose2d(16, 1, kernel_size=3, stride=2, padding=1, output_padding=1),\n",
    "            nn.Sigmoid(),\n",
    "        )\n",
    "        \n",
    "    def forward(self, x):\n",
    "        encoded = self.encoder(x)\n",
    "        decoded = self.decoder(encoded)\n",
    "        return decoded\n",
    "\n",
    "# モデルのインスタンス化とデバイスへの移動\n",
    "model = Autoencoder().to(device)\n",
    "\n",
    "# 損失関数と最適化アルゴリズムの定義\n",
    "criterion = nn.MSELoss()\n",
    "optimizer = optim.Adam(model.parameters(), lr=0.001)\n",
    "\n",
    "# 学習の実行\n",
    "num_epochs = 10\n",
    "\n",
    "for epoch in range(num_epochs):\n",
    "    train_loss = 0.0\n",
    "    \n",
    "    # モデルを訓練モードに設定\n",
    "    model.train()\n",
    "    \n",
    "    for data in train_loader:\n",
    "        images, _ = data\n",
    "        images = images.to(device)\n",
    "        \n",
    "        # 順伝播と逆伝播の計算\n",
    "        optimizer.zero_grad()\n",
    "        outputs = model(images)\n",
    "        loss = criterion(outputs, images)\n",
    "        loss.backward()\n",
    "        optimizer.step()\n",
    "        \n",
    "        train_loss += loss.item() * images.size(0)\n",
    "    \n",
    "    # エポックごとの損失を出力\n",
    "    train_loss /= len(train_loader.dataset)\n",
    "    print(f\"Epoch {epoch+1}/{num_epochs}, Training Loss: {train_loss:.4f}\")\n",
    "\n",
    "# テストデータでの評価\n",
    "test_loss = 0.0\n",
    "\n",
    "# モデルを評価モードに設定\n",
    "model.eval()\n",
    "\n",
    "def loss_fn(model, images):\n",
    "    images = images.to(device)\n",
    "    outputs = model(images)\n",
    "    loss = criterion(outputs, images)\n",
    "    return loss\n",
    "\n",
    "with torch.no_grad():\n",
    "    for data in test_loader:\n",
    "        images, _ = data\n",
    "        loss = loss_fn(model, images)\n",
    "        test_loss += loss.item() * images.size(0)\n",
    "\n",
    "test_loss /= len(test_loader.dataset)\n",
    "print(f\"Test Loss: {test_loss:.4f}\")"
   ]
  },
  {
   "cell_type": "markdown",
   "id": "e7bd376a-6dc1-4998-bc26-347da087e69e",
   "metadata": {},
   "source": [
    "# 異常検知\n",
    "以下のような時系列の異常検知（正確には変化点検出）を考えます。\n",
    "\n",
    "* 時刻100まで：MNISTの1の画像\n",
    "* 時刻100以降：MNISTの7の画像\n",
    "\n",
    "横軸を時刻、縦軸を1の画像を学習したAEモデルに通したときのlossとしてグラフを書きます"
   ]
  },
  {
   "cell_type": "code",
   "execution_count": 12,
   "id": "3892bd7d-4641-45a2-b076-cc7bc6d3146c",
   "metadata": {},
   "outputs": [],
   "source": [
    "label1_data = test_dataset[:100]"
   ]
  },
  {
   "cell_type": "code",
   "execution_count": 13,
   "id": "6dd3ee26-a5d8-4959-91db-b1dc1743a6cb",
   "metadata": {},
   "outputs": [],
   "source": [
    "label7_data = [data for data in original_test_dataset if data[1] == 7][:100]"
   ]
  },
  {
   "cell_type": "code",
   "execution_count": 14,
   "id": "25e339a8-76ba-4fe4-844d-caa0a9fc36c2",
   "metadata": {},
   "outputs": [],
   "source": [
    "target_data = label1_data + label7_data"
   ]
  },
  {
   "cell_type": "code",
   "execution_count": 50,
   "id": "a6bc32f4-0bb2-4f62-9543-d886a89248a8",
   "metadata": {},
   "outputs": [],
   "source": [
    "losses = [ loss_fn(model, d[0].unsqueeze(0)).item() for d in target_data]"
   ]
  },
  {
   "cell_type": "code",
   "execution_count": 51,
   "id": "4d29f2c7-6432-4f6d-ba43-4015ad44d384",
   "metadata": {},
   "outputs": [],
   "source": [
    "import pandas as pd\n",
    "\n",
    "df = pd.DataFrame(\n",
    "    data = {\n",
    "        \"loss\": losses\n",
    "    }\n",
    ")"
   ]
  },
  {
   "cell_type": "code",
   "execution_count": 52,
   "id": "ec3ed8a7-1491-4c80-989b-c9025d0fb0aa",
   "metadata": {},
   "outputs": [
    {
     "data": {
      "text/plain": [
       "<Axes: >"
      ]
     },
     "execution_count": 52,
     "metadata": {},
     "output_type": "execute_result"
    },
    {
     "data": {
      "image/png": "[encoded data removed]",
      "text/plain": [
       "<Figure size 640x480 with 1 Axes>"
      ]
     },
     "metadata": {},
     "output_type": "display_data"
    }
   ],
   "source": [
    "df.plot()"
   ]
  },
  {
   "cell_type": "code",
   "execution_count": null,
   "id": "6f87aff9-9e04-482f-92d2-28fa384a6d7b",
   "metadata": {},
   "outputs": [],
   "source": []
  }
 ],
 "metadata": {
  "kernelspec": {
   "display_name": "Python 3 (ipykernel)",
   "language": "python",
   "name": "python3"
  },
  "language_info": {
   "codemirror_mode": {
    "name": "ipython",
    "version": 3
   },
   "file_extension": ".py",
   "mimetype": "text/x-python",
   "name": "python",
   "nbconvert_exporter": "python",
   "pygments_lexer": "ipython3",
   "version": "3.9.16"
  }
 },
 "nbformat": 4,
 "nbformat_minor": 5
}
